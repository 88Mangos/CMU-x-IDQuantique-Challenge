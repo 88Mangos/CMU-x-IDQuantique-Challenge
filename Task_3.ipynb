{
 "cells": [
  {
   "cell_type": "code",
   "execution_count": null,
   "id": "464d9248",
   "metadata": {},
   "outputs": [],
   "source": [
    "# Package Imports - feel free to add what you think might be useful! \n",
    "%pip install requests\n",
    "import requests"
   ]
  },
  {
   "cell_type": "markdown",
   "id": "41bd5b50",
   "metadata": {},
   "source": [
    "## Task 3: Quest for Quantum Randomness"
   ]
  },
  {
   "cell_type": "markdown",
   "id": "5af55384",
   "metadata": {},
   "source": [
    "### Part A: Truly Different"
   ]
  },
  {
   "cell_type": "code",
   "execution_count": null,
   "id": "67b421a6",
   "metadata": {},
   "outputs": [],
   "source": [
    "\"\"\" \n",
    "Using the QRNGaaS User Manual provided, \n",
    "write Python code to get random numbers from IDQuantique's Quantum Random Number Generators. \n",
    "You'll probably reuse this code for Task 4. So write it well!\n",
    "\n",
    "If you are unfamiliar with writing HTTP requests in Python, \n",
    "https://www.w3schools.com/python/module_requests.asp\n",
    "\n",
    "If you're really stuck, this can definitely help. Though we encourage you to read the documentation yourself! \n",
    "https://curlconverter.com/python/\n",
    "\"\"\""
   ]
  },
  {
   "cell_type": "markdown",
   "id": "ee04daba",
   "metadata": {},
   "source": [
    "### Part B: Easy as Pi!"
   ]
  },
  {
   "cell_type": "code",
   "execution_count": null,
   "id": "b0155461",
   "metadata": {},
   "outputs": [],
   "source": [
    "\"\"\"\n",
    "Implement the Monte Carlo algorithm for estimating Pi using your various sources of randomness. \n",
    "You can paste the other environmental entropy based TRNGs from Task 2 and compare the performance\n",
    "\n",
    "If you are stuck on how to implement the algorithm: \n",
    "https://www.geeksforgeeks.org/estimating-value-pi-using-monte-carlo/\n",
    "\"\"\"\n",
    "def estimate_pi():\n",
    "    pass # TODO"
   ]
  }
 ],
 "metadata": {
  "language_info": {
   "name": "python"
  }
 },
 "nbformat": 4,
 "nbformat_minor": 5
}
